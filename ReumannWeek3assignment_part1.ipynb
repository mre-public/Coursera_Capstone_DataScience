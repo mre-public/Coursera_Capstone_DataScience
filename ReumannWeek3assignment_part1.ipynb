{
 "cells": [
  {
   "cell_type": "markdown",
   "metadata": {},
   "source": [
    "# Assignment segment and cluster Boroughs of Toronto - part 1: getting table of Torontos neighbourhoods\n",
    "\n",
    "## Matthias Reumann"
   ]
  },
  {
   "cell_type": "code",
   "execution_count": 1,
   "metadata": {},
   "outputs": [
    {
     "name": "stdout",
     "output_type": "stream",
     "text": [
      "Solving environment: done\n",
      "\n",
      "\n",
      "==> WARNING: A newer version of conda exists. <==\n",
      "  current version: 4.5.11\n",
      "  latest version: 4.7.11\n",
      "\n",
      "Please update conda by running\n",
      "\n",
      "    $ conda update -n base -c defaults conda\n",
      "\n",
      "\n",
      "\n",
      "## Package Plan ##\n",
      "\n",
      "  environment location: /home/jupyterlab/conda/envs/python\n",
      "\n",
      "  added / updated specs: \n",
      "    - lxml\n",
      "\n",
      "\n",
      "The following packages will be downloaded:\n",
      "\n",
      "    package                    |            build\n",
      "    ---------------------------|-----------------\n",
      "    openssl-1.1.1c             |       h7b6447c_1         3.8 MB\n",
      "    certifi-2019.6.16          |           py36_1         156 KB\n",
      "    lxml-4.3.0                 |   py36hefd8a0e_0         1.5 MB\n",
      "    ------------------------------------------------------------\n",
      "                                           Total:         5.4 MB\n",
      "\n",
      "The following packages will be UPDATED:\n",
      "\n",
      "    certifi: 2019.6.16-py36_1     conda-forge --> 2019.6.16-py36_1    \n",
      "    lxml:    4.2.5-py37hefd8a0e_0             --> 4.3.0-py36hefd8a0e_0\n",
      "    openssl: 1.1.1c-h516909a_0    conda-forge --> 1.1.1c-h7b6447c_1   \n",
      "\n",
      "\n",
      "Downloading and Extracting Packages\n",
      "openssl-1.1.1c       | 3.8 MB    | ##################################### | 100% \n",
      "certifi-2019.6.16    | 156 KB    | ##################################### | 100% \n",
      "lxml-4.3.0           | 1.5 MB    | ##################################### | 100% \n",
      "Preparing transaction: done\n",
      "Verifying transaction: done\n",
      "Executing transaction: done\n"
     ]
    }
   ],
   "source": [
    "# Install the lxml package in the current Jupyter kernel using conda\n",
    "import sys\n",
    "!conda install --yes --prefix {sys.prefix} lxml"
   ]
  },
  {
   "cell_type": "markdown",
   "metadata": {},
   "source": [
    "There seem to be issues in installing the lxml package using conda in this environment. \n",
    "Edit: The issue seems to be resolved and the results are shown. When running the code locally in a python script, the code executed perfectly."
   ]
  },
  {
   "cell_type": "markdown",
   "metadata": {},
   "source": [
    "## Scrap the wikipedia page"
   ]
  },
  {
   "cell_type": "code",
   "execution_count": 2,
   "metadata": {},
   "outputs": [
    {
     "name": "stdout",
     "output_type": "stream",
     "text": [
      "['Postcode' 'Borough' 'Neighbourhood']\n",
      "  Postcode           Borough     Neighbourhood\n",
      "0      M1A      Not assigned      Not assigned\n",
      "1      M2A      Not assigned      Not assigned\n",
      "2      M3A        North York         Parkwoods\n",
      "3      M4A        North York  Victoria Village\n",
      "4      M5A  Downtown Toronto      Harbourfront\n",
      "5      M5A  Downtown Toronto       Regent Park\n",
      "6      M6A        North York  Lawrence Heights\n",
      "7      M6A        North York    Lawrence Manor\n",
      "8      M7A      Queen's Park      Not assigned\n",
      "9      M8A      Not assigned      Not assigned\n",
      "(288, 3)\n"
     ]
    }
   ],
   "source": [
    "import pandas as pd\n",
    "\n",
    "\n",
    "url = 'https://en.wikipedia.org/wiki/List_of_postal_codes_of_Canada:_M'\n",
    "\n",
    "tables = pd.read_html(url, header=0)\n",
    "print(tables[0].columns.values)\n",
    "\n",
    "df = tables[0]\n",
    "dfToronto = tables[0]\n",
    "print(dfToronto.head(10))\n",
    "print(dfToronto.shape)\n",
    "\n",
    "\n"
   ]
  },
  {
   "cell_type": "markdown",
   "metadata": {},
   "source": [
    "The table of Boroughs and neighbourhoods has 288 rows."
   ]
  },
  {
   "cell_type": "markdown",
   "metadata": {},
   "source": [
    "## Drop 'not assigned' fields in 'Borough'\n"
   ]
  },
  {
   "cell_type": "code",
   "execution_count": 3,
   "metadata": {},
   "outputs": [
    {
     "name": "stdout",
     "output_type": "stream",
     "text": [
      "(211, 3)\n"
     ]
    },
    {
     "data": {
      "text/html": [
       "<div>\n",
       "<style scoped>\n",
       "    .dataframe tbody tr th:only-of-type {\n",
       "        vertical-align: middle;\n",
       "    }\n",
       "\n",
       "    .dataframe tbody tr th {\n",
       "        vertical-align: top;\n",
       "    }\n",
       "\n",
       "    .dataframe thead th {\n",
       "        text-align: right;\n",
       "    }\n",
       "</style>\n",
       "<table border=\"1\" class=\"dataframe\">\n",
       "  <thead>\n",
       "    <tr style=\"text-align: right;\">\n",
       "      <th></th>\n",
       "      <th>Postcode</th>\n",
       "      <th>Borough</th>\n",
       "      <th>Neighbourhood</th>\n",
       "    </tr>\n",
       "  </thead>\n",
       "  <tbody>\n",
       "    <tr>\n",
       "      <td>2</td>\n",
       "      <td>M3A</td>\n",
       "      <td>North York</td>\n",
       "      <td>Parkwoods</td>\n",
       "    </tr>\n",
       "    <tr>\n",
       "      <td>3</td>\n",
       "      <td>M4A</td>\n",
       "      <td>North York</td>\n",
       "      <td>Victoria Village</td>\n",
       "    </tr>\n",
       "    <tr>\n",
       "      <td>4</td>\n",
       "      <td>M5A</td>\n",
       "      <td>Downtown Toronto</td>\n",
       "      <td>Harbourfront</td>\n",
       "    </tr>\n",
       "    <tr>\n",
       "      <td>5</td>\n",
       "      <td>M5A</td>\n",
       "      <td>Downtown Toronto</td>\n",
       "      <td>Regent Park</td>\n",
       "    </tr>\n",
       "    <tr>\n",
       "      <td>6</td>\n",
       "      <td>M6A</td>\n",
       "      <td>North York</td>\n",
       "      <td>Lawrence Heights</td>\n",
       "    </tr>\n",
       "    <tr>\n",
       "      <td>7</td>\n",
       "      <td>M6A</td>\n",
       "      <td>North York</td>\n",
       "      <td>Lawrence Manor</td>\n",
       "    </tr>\n",
       "    <tr>\n",
       "      <td>8</td>\n",
       "      <td>M7A</td>\n",
       "      <td>Queen's Park</td>\n",
       "      <td>Not assigned</td>\n",
       "    </tr>\n",
       "    <tr>\n",
       "      <td>10</td>\n",
       "      <td>M9A</td>\n",
       "      <td>Etobicoke</td>\n",
       "      <td>Islington Avenue</td>\n",
       "    </tr>\n",
       "    <tr>\n",
       "      <td>11</td>\n",
       "      <td>M1B</td>\n",
       "      <td>Scarborough</td>\n",
       "      <td>Rouge</td>\n",
       "    </tr>\n",
       "    <tr>\n",
       "      <td>12</td>\n",
       "      <td>M1B</td>\n",
       "      <td>Scarborough</td>\n",
       "      <td>Malvern</td>\n",
       "    </tr>\n",
       "  </tbody>\n",
       "</table>\n",
       "</div>"
      ],
      "text/plain": [
       "   Postcode           Borough     Neighbourhood\n",
       "2       M3A        North York         Parkwoods\n",
       "3       M4A        North York  Victoria Village\n",
       "4       M5A  Downtown Toronto      Harbourfront\n",
       "5       M5A  Downtown Toronto       Regent Park\n",
       "6       M6A        North York  Lawrence Heights\n",
       "7       M6A        North York    Lawrence Manor\n",
       "8       M7A      Queen's Park      Not assigned\n",
       "10      M9A         Etobicoke  Islington Avenue\n",
       "11      M1B       Scarborough             Rouge\n",
       "12      M1B       Scarborough           Malvern"
      ]
     },
     "execution_count": 3,
     "metadata": {},
     "output_type": "execute_result"
    }
   ],
   "source": [
    "# drop 'not assigned' fields in 'Borough'\n",
    "# Get names of indexes\n",
    "index = dfToronto[dfToronto['Borough'] == 'Not assigned'].index\n",
    "# Delete these row indexes from dataFrame\n",
    "dfToronto.drop(index, inplace=True)\n",
    "print(dfToronto.shape)\n",
    "dfToronto.head(10)\n"
   ]
  },
  {
   "cell_type": "markdown",
   "metadata": {},
   "source": [
    "After dropping the 'not assigned' rows in the Borough column, the table has 211 rows."
   ]
  },
  {
   "cell_type": "markdown",
   "metadata": {},
   "source": [
    "## Assign Neighbourhood 'Not assigned' to Borough name"
   ]
  },
  {
   "cell_type": "code",
   "execution_count": 4,
   "metadata": {},
   "outputs": [
    {
     "name": "stdout",
     "output_type": "stream",
     "text": [
      "8\n",
      "   Postcode           Borough     Neighbourhood\n",
      "2       M3A        North York         Parkwoods\n",
      "3       M4A        North York  Victoria Village\n",
      "4       M5A  Downtown Toronto      Harbourfront\n",
      "5       M5A  Downtown Toronto       Regent Park\n",
      "6       M6A        North York  Lawrence Heights\n",
      "7       M6A        North York    Lawrence Manor\n",
      "8       M7A      Queen's Park      Queen's Park\n",
      "10      M9A         Etobicoke  Islington Avenue\n",
      "11      M1B       Scarborough             Rouge\n",
      "12      M1B       Scarborough           Malvern\n",
      "(211, 3)\n"
     ]
    }
   ],
   "source": [
    "# assign Neighbourhood 'Not assigned' to Borough name\n",
    "\n",
    "index = dfToronto[dfToronto['Neighbourhood'] == 'Not assigned'].index\n",
    "\n",
    "for i in index:\n",
    "    print(i)\n",
    "    dfToronto.loc[i]['Neighbourhood'] = dfToronto.loc[i]['Borough']\n",
    "\n",
    "print(dfToronto.head(10))\n",
    "print(dfToronto.shape)\n"
   ]
  },
  {
   "cell_type": "markdown",
   "metadata": {},
   "source": [
    "## Groupby Boroughs keeping the Neighbourhood as lists\n"
   ]
  },
  {
   "cell_type": "code",
   "execution_count": 7,
   "metadata": {},
   "outputs": [
    {
     "name": "stdout",
     "output_type": "stream",
     "text": [
      "['Borough' 'Postcode' 'Neighbourhood']\n",
      "(11, 3)\n"
     ]
    },
    {
     "data": {
      "text/html": [
       "<div>\n",
       "<style scoped>\n",
       "    .dataframe tbody tr th:only-of-type {\n",
       "        vertical-align: middle;\n",
       "    }\n",
       "\n",
       "    .dataframe tbody tr th {\n",
       "        vertical-align: top;\n",
       "    }\n",
       "\n",
       "    .dataframe thead th {\n",
       "        text-align: right;\n",
       "    }\n",
       "</style>\n",
       "<table border=\"1\" class=\"dataframe\">\n",
       "  <thead>\n",
       "    <tr style=\"text-align: right;\">\n",
       "      <th></th>\n",
       "      <th>Postcode</th>\n",
       "      <th>Borough</th>\n",
       "      <th>Neighbourhood</th>\n",
       "    </tr>\n",
       "  </thead>\n",
       "  <tbody>\n",
       "    <tr>\n",
       "      <td>0</td>\n",
       "      <td>[[[M4N, M5N, M4P, M5P, M5P, M4R, M5R, M5R, M5R...</td>\n",
       "      <td>Central Toronto</td>\n",
       "      <td>[[[Lawrence Park, Roselawn, Davisville North, ...</td>\n",
       "    </tr>\n",
       "    <tr>\n",
       "      <td>1</td>\n",
       "      <td>[[[M5A, M5A, M5B, M5B, M5C, M5E, M5G, M6G, M5H...</td>\n",
       "      <td>Downtown Toronto</td>\n",
       "      <td>[[[Harbourfront, Regent Park, Ryerson, Garden ...</td>\n",
       "    </tr>\n",
       "    <tr>\n",
       "      <td>2</td>\n",
       "      <td>[[[M4E, M4K, M4K, M4L, M4L, M4M, M7Y]]]</td>\n",
       "      <td>East Toronto</td>\n",
       "      <td>[[[The Beaches, The Danforth West, Riverdale, ...</td>\n",
       "    </tr>\n",
       "    <tr>\n",
       "      <td>3</td>\n",
       "      <td>[[[M4B, M4B, M4C, M4G, M4H, M4J]]]</td>\n",
       "      <td>East York</td>\n",
       "      <td>[[[Woodbine Gardens, Parkview Hill, Woodbine H...</td>\n",
       "    </tr>\n",
       "    <tr>\n",
       "      <td>4</td>\n",
       "      <td>[[[M9A, M9B, M9B, M9B, M9B, M9B, M9C, M9C, M9C...</td>\n",
       "      <td>Etobicoke</td>\n",
       "      <td>[[[Islington Avenue, Cloverdale, Islington, Ma...</td>\n",
       "    </tr>\n",
       "    <tr>\n",
       "      <td>5</td>\n",
       "      <td>[[[M7R]]]</td>\n",
       "      <td>Mississauga</td>\n",
       "      <td>[[[Canada Post Gateway Processing Centre]]]</td>\n",
       "    </tr>\n",
       "    <tr>\n",
       "      <td>6</td>\n",
       "      <td>[[[M3A, M4A, M6A, M6A, M3B, M6B, M3C, M3C, M2H...</td>\n",
       "      <td>North York</td>\n",
       "      <td>[[[Parkwoods, Victoria Village, Lawrence Heigh...</td>\n",
       "    </tr>\n",
       "    <tr>\n",
       "      <td>7</td>\n",
       "      <td>[[[M7A]]]</td>\n",
       "      <td>Queen's Park</td>\n",
       "      <td>[[[Queen's Park]]]</td>\n",
       "    </tr>\n",
       "    <tr>\n",
       "      <td>8</td>\n",
       "      <td>[[[M1B, M1B, M1C, M1C, M1C, M1E, M1E, M1E, M1G...</td>\n",
       "      <td>Scarborough</td>\n",
       "      <td>[[[Rouge, Malvern, Highland Creek, Rouge Hill,...</td>\n",
       "    </tr>\n",
       "    <tr>\n",
       "      <td>9</td>\n",
       "      <td>[[[M6H, M6H, M6J, M6J, M6K, M6K, M6K, M6P, M6P...</td>\n",
       "      <td>West Toronto</td>\n",
       "      <td>[[[Dovercourt Village, Dufferin, Little Portug...</td>\n",
       "    </tr>\n",
       "    <tr>\n",
       "      <td>10</td>\n",
       "      <td>[[[M6C, M6E, M6M, M6M, M6M, M6M, M6N, M6N, M9N]]]</td>\n",
       "      <td>York</td>\n",
       "      <td>[[[Humewood-Cedarvale, Caledonia-Fairbanks, De...</td>\n",
       "    </tr>\n",
       "  </tbody>\n",
       "</table>\n",
       "</div>"
      ],
      "text/plain": [
       "                                             Postcode           Borough  \\\n",
       "0   [[[M4N, M5N, M4P, M5P, M5P, M4R, M5R, M5R, M5R...   Central Toronto   \n",
       "1   [[[M5A, M5A, M5B, M5B, M5C, M5E, M5G, M6G, M5H...  Downtown Toronto   \n",
       "2             [[[M4E, M4K, M4K, M4L, M4L, M4M, M7Y]]]      East Toronto   \n",
       "3                  [[[M4B, M4B, M4C, M4G, M4H, M4J]]]         East York   \n",
       "4   [[[M9A, M9B, M9B, M9B, M9B, M9B, M9C, M9C, M9C...         Etobicoke   \n",
       "5                                           [[[M7R]]]       Mississauga   \n",
       "6   [[[M3A, M4A, M6A, M6A, M3B, M6B, M3C, M3C, M2H...        North York   \n",
       "7                                           [[[M7A]]]      Queen's Park   \n",
       "8   [[[M1B, M1B, M1C, M1C, M1C, M1E, M1E, M1E, M1G...       Scarborough   \n",
       "9   [[[M6H, M6H, M6J, M6J, M6K, M6K, M6K, M6P, M6P...      West Toronto   \n",
       "10  [[[M6C, M6E, M6M, M6M, M6M, M6M, M6N, M6N, M9N]]]              York   \n",
       "\n",
       "                                        Neighbourhood  \n",
       "0   [[[Lawrence Park, Roselawn, Davisville North, ...  \n",
       "1   [[[Harbourfront, Regent Park, Ryerson, Garden ...  \n",
       "2   [[[The Beaches, The Danforth West, Riverdale, ...  \n",
       "3   [[[Woodbine Gardens, Parkview Hill, Woodbine H...  \n",
       "4   [[[Islington Avenue, Cloverdale, Islington, Ma...  \n",
       "5         [[[Canada Post Gateway Processing Centre]]]  \n",
       "6   [[[Parkwoods, Victoria Village, Lawrence Heigh...  \n",
       "7                                  [[[Queen's Park]]]  \n",
       "8   [[[Rouge, Malvern, Highland Creek, Rouge Hill,...  \n",
       "9   [[[Dovercourt Village, Dufferin, Little Portug...  \n",
       "10  [[[Humewood-Cedarvale, Caledonia-Fairbanks, De...  "
      ]
     },
     "execution_count": 7,
     "metadata": {},
     "output_type": "execute_result"
    }
   ],
   "source": [
    "# groupby Boroughs keeping the Neighbourhood as lists\n",
    "dfToronto = dfToronto.groupby(['Borough']).agg({'Postcode': list, 'Neighbourhood': list}).reset_index()\n",
    "print(dfToronto.columns.values)\n",
    "dfToronto = dfToronto[['Postcode', 'Borough', 'Neighbourhood']]\n",
    "print(dfToronto.shape)\n",
    "dfToronto"
   ]
  },
  {
   "cell_type": "markdown",
   "metadata": {},
   "source": [
    "Toronto seems to have 11 Boroughs after grouping them. The Neighbourhoods are assembled in a list. They could be converted further to a string using a join operation. \n",
    "Note: There is not a single post code per Borough. The post code seems to be associated with the Neighbourhoods. Thus, a good idea is to also aggregate them in a list, so that they are not lost. Having said that, I believe it makes more sense (see part 2 of the assignment) to group by Borough then Post code to aggregate the neighbourhoods."
   ]
  },
  {
   "cell_type": "code",
   "execution_count": null,
   "metadata": {},
   "outputs": [],
   "source": []
  }
 ],
 "metadata": {
  "kernelspec": {
   "display_name": "Python",
   "language": "python",
   "name": "conda-env-python-py"
  },
  "language_info": {
   "codemirror_mode": {
    "name": "ipython",
    "version": 3
   },
   "file_extension": ".py",
   "mimetype": "text/x-python",
   "name": "python",
   "nbconvert_exporter": "python",
   "pygments_lexer": "ipython3",
   "version": "3.6.7"
  }
 },
 "nbformat": 4,
 "nbformat_minor": 4
}

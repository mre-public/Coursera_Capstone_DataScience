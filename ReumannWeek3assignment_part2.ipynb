{
 "cells": [
  {
   "cell_type": "markdown",
   "metadata": {},
   "source": [
    "# Assignment segment and cluster Boroughs of Toronto - part 2: adding geo data\n",
    "\n",
    "## Matthias Reumann"
   ]
  },
  {
   "cell_type": "code",
   "execution_count": 1,
   "metadata": {},
   "outputs": [],
   "source": [
    "# Install the lxml package in the current Jupyter kernel using conda\n",
    "#import sys\n",
    "#!conda install --yes --prefix {sys.prefix} lxml"
   ]
  },
  {
   "cell_type": "markdown",
   "metadata": {},
   "source": [
    "There seem to be issues in installing the lxml package using conda in this environment. \n",
    "Edit: The issue seems to be resolved and the results are shown. When running the code locally in a python script, the code executed perfectly."
   ]
  },
  {
   "cell_type": "markdown",
   "metadata": {},
   "source": [
    "## Scrap the wikipedia page"
   ]
  },
  {
   "cell_type": "code",
   "execution_count": 2,
   "metadata": {},
   "outputs": [
    {
     "name": "stdout",
     "output_type": "stream",
     "text": [
      "['Postcode' 'Borough' 'Neighbourhood']\n",
      "  Postcode           Borough     Neighbourhood\n",
      "0      M1A      Not assigned      Not assigned\n",
      "1      M2A      Not assigned      Not assigned\n",
      "2      M3A        North York         Parkwoods\n",
      "3      M4A        North York  Victoria Village\n",
      "4      M5A  Downtown Toronto      Harbourfront\n",
      "5      M5A  Downtown Toronto       Regent Park\n",
      "6      M6A        North York  Lawrence Heights\n",
      "7      M6A        North York    Lawrence Manor\n",
      "8      M7A      Queen's Park      Not assigned\n",
      "9      M8A      Not assigned      Not assigned\n",
      "(288, 3)\n"
     ]
    }
   ],
   "source": [
    "import pandas as pd\n",
    "\n",
    "\n",
    "url = 'https://en.wikipedia.org/wiki/List_of_postal_codes_of_Canada:_M'\n",
    "\n",
    "tables = pd.read_html(url, header=0)\n",
    "print(tables[0].columns.values)\n",
    "\n",
    "df = tables[0]\n",
    "dfToronto = tables[0]\n",
    "print(dfToronto.head(10))\n",
    "print(dfToronto.shape)\n",
    "\n",
    "\n"
   ]
  },
  {
   "cell_type": "markdown",
   "metadata": {},
   "source": [
    "The table of Boroughs and neighbourhoods has 288 rows."
   ]
  },
  {
   "cell_type": "markdown",
   "metadata": {},
   "source": [
    "## Drop 'not assigned' fields in 'Borough'\n"
   ]
  },
  {
   "cell_type": "code",
   "execution_count": 3,
   "metadata": {},
   "outputs": [
    {
     "name": "stdout",
     "output_type": "stream",
     "text": [
      "(211, 3)\n"
     ]
    },
    {
     "data": {
      "text/html": [
       "<div>\n",
       "<style scoped>\n",
       "    .dataframe tbody tr th:only-of-type {\n",
       "        vertical-align: middle;\n",
       "    }\n",
       "\n",
       "    .dataframe tbody tr th {\n",
       "        vertical-align: top;\n",
       "    }\n",
       "\n",
       "    .dataframe thead th {\n",
       "        text-align: right;\n",
       "    }\n",
       "</style>\n",
       "<table border=\"1\" class=\"dataframe\">\n",
       "  <thead>\n",
       "    <tr style=\"text-align: right;\">\n",
       "      <th></th>\n",
       "      <th>Postcode</th>\n",
       "      <th>Borough</th>\n",
       "      <th>Neighbourhood</th>\n",
       "    </tr>\n",
       "  </thead>\n",
       "  <tbody>\n",
       "    <tr>\n",
       "      <td>2</td>\n",
       "      <td>M3A</td>\n",
       "      <td>North York</td>\n",
       "      <td>Parkwoods</td>\n",
       "    </tr>\n",
       "    <tr>\n",
       "      <td>3</td>\n",
       "      <td>M4A</td>\n",
       "      <td>North York</td>\n",
       "      <td>Victoria Village</td>\n",
       "    </tr>\n",
       "    <tr>\n",
       "      <td>4</td>\n",
       "      <td>M5A</td>\n",
       "      <td>Downtown Toronto</td>\n",
       "      <td>Harbourfront</td>\n",
       "    </tr>\n",
       "    <tr>\n",
       "      <td>5</td>\n",
       "      <td>M5A</td>\n",
       "      <td>Downtown Toronto</td>\n",
       "      <td>Regent Park</td>\n",
       "    </tr>\n",
       "    <tr>\n",
       "      <td>6</td>\n",
       "      <td>M6A</td>\n",
       "      <td>North York</td>\n",
       "      <td>Lawrence Heights</td>\n",
       "    </tr>\n",
       "    <tr>\n",
       "      <td>7</td>\n",
       "      <td>M6A</td>\n",
       "      <td>North York</td>\n",
       "      <td>Lawrence Manor</td>\n",
       "    </tr>\n",
       "    <tr>\n",
       "      <td>8</td>\n",
       "      <td>M7A</td>\n",
       "      <td>Queen's Park</td>\n",
       "      <td>Not assigned</td>\n",
       "    </tr>\n",
       "    <tr>\n",
       "      <td>10</td>\n",
       "      <td>M9A</td>\n",
       "      <td>Etobicoke</td>\n",
       "      <td>Islington Avenue</td>\n",
       "    </tr>\n",
       "    <tr>\n",
       "      <td>11</td>\n",
       "      <td>M1B</td>\n",
       "      <td>Scarborough</td>\n",
       "      <td>Rouge</td>\n",
       "    </tr>\n",
       "    <tr>\n",
       "      <td>12</td>\n",
       "      <td>M1B</td>\n",
       "      <td>Scarborough</td>\n",
       "      <td>Malvern</td>\n",
       "    </tr>\n",
       "  </tbody>\n",
       "</table>\n",
       "</div>"
      ],
      "text/plain": [
       "   Postcode           Borough     Neighbourhood\n",
       "2       M3A        North York         Parkwoods\n",
       "3       M4A        North York  Victoria Village\n",
       "4       M5A  Downtown Toronto      Harbourfront\n",
       "5       M5A  Downtown Toronto       Regent Park\n",
       "6       M6A        North York  Lawrence Heights\n",
       "7       M6A        North York    Lawrence Manor\n",
       "8       M7A      Queen's Park      Not assigned\n",
       "10      M9A         Etobicoke  Islington Avenue\n",
       "11      M1B       Scarborough             Rouge\n",
       "12      M1B       Scarborough           Malvern"
      ]
     },
     "execution_count": 3,
     "metadata": {},
     "output_type": "execute_result"
    }
   ],
   "source": [
    "# drop 'not assigned' fields in 'Borough'\n",
    "# Get names of indexes\n",
    "index = dfToronto[dfToronto['Borough'] == 'Not assigned'].index\n",
    "# Delete these row indexes from dataFrame\n",
    "dfToronto.drop(index, inplace=True)\n",
    "print(dfToronto.shape)\n",
    "dfToronto.head(10)\n"
   ]
  },
  {
   "cell_type": "markdown",
   "metadata": {},
   "source": [
    "After dropping the 'not assigned' rows in the Borough column, the table has 211 rows."
   ]
  },
  {
   "cell_type": "markdown",
   "metadata": {},
   "source": [
    "## Assign Neighbourhood 'Not assigned' to Borough name"
   ]
  },
  {
   "cell_type": "code",
   "execution_count": 4,
   "metadata": {},
   "outputs": [
    {
     "name": "stdout",
     "output_type": "stream",
     "text": [
      "8\n",
      "   Postcode           Borough     Neighbourhood\n",
      "2       M3A        North York         Parkwoods\n",
      "3       M4A        North York  Victoria Village\n",
      "4       M5A  Downtown Toronto      Harbourfront\n",
      "5       M5A  Downtown Toronto       Regent Park\n",
      "6       M6A        North York  Lawrence Heights\n",
      "7       M6A        North York    Lawrence Manor\n",
      "8       M7A      Queen's Park      Queen's Park\n",
      "10      M9A         Etobicoke  Islington Avenue\n",
      "11      M1B       Scarborough             Rouge\n",
      "12      M1B       Scarborough           Malvern\n",
      "(211, 3)\n"
     ]
    }
   ],
   "source": [
    "# assign Neighbourhood 'Not assigned' to Borough name\n",
    "\n",
    "index = dfToronto[dfToronto['Neighbourhood'] == 'Not assigned'].index\n",
    "\n",
    "for i in index:\n",
    "    print(i)\n",
    "    dfToronto.loc[i]['Neighbourhood'] = dfToronto.loc[i]['Borough']\n",
    "\n",
    "print(dfToronto.head(10))\n",
    "print(dfToronto.shape)\n"
   ]
  },
  {
   "cell_type": "markdown",
   "metadata": {},
   "source": [
    "## Groupby Boroughs keeping the Neighbourhood as lists\n",
    "Also, to keep a unique post code per neighbourhood, the grouping is done by Borough then Postcode. This differs from part 1 of the assignment.\n"
   ]
  },
  {
   "cell_type": "code",
   "execution_count": 5,
   "metadata": {},
   "outputs": [
    {
     "name": "stdout",
     "output_type": "stream",
     "text": [
      "['Borough' 'Postcode' 'Neighbourhood']\n",
      "(103, 3)\n"
     ]
    },
    {
     "data": {
      "text/html": [
       "<div>\n",
       "<style scoped>\n",
       "    .dataframe tbody tr th:only-of-type {\n",
       "        vertical-align: middle;\n",
       "    }\n",
       "\n",
       "    .dataframe tbody tr th {\n",
       "        vertical-align: top;\n",
       "    }\n",
       "\n",
       "    .dataframe thead th {\n",
       "        text-align: right;\n",
       "    }\n",
       "</style>\n",
       "<table border=\"1\" class=\"dataframe\">\n",
       "  <thead>\n",
       "    <tr style=\"text-align: right;\">\n",
       "      <th></th>\n",
       "      <th>Postcode</th>\n",
       "      <th>Borough</th>\n",
       "      <th>Neighbourhood</th>\n",
       "    </tr>\n",
       "  </thead>\n",
       "  <tbody>\n",
       "    <tr>\n",
       "      <td>0</td>\n",
       "      <td>M4N</td>\n",
       "      <td>Central Toronto</td>\n",
       "      <td>[Lawrence Park]</td>\n",
       "    </tr>\n",
       "    <tr>\n",
       "      <td>1</td>\n",
       "      <td>M4P</td>\n",
       "      <td>Central Toronto</td>\n",
       "      <td>[Davisville North]</td>\n",
       "    </tr>\n",
       "    <tr>\n",
       "      <td>2</td>\n",
       "      <td>M4R</td>\n",
       "      <td>Central Toronto</td>\n",
       "      <td>[North Toronto West]</td>\n",
       "    </tr>\n",
       "    <tr>\n",
       "      <td>3</td>\n",
       "      <td>M4S</td>\n",
       "      <td>Central Toronto</td>\n",
       "      <td>[Davisville]</td>\n",
       "    </tr>\n",
       "    <tr>\n",
       "      <td>4</td>\n",
       "      <td>M4T</td>\n",
       "      <td>Central Toronto</td>\n",
       "      <td>[Moore Park, Summerhill East]</td>\n",
       "    </tr>\n",
       "    <tr>\n",
       "      <td>...</td>\n",
       "      <td>...</td>\n",
       "      <td>...</td>\n",
       "      <td>...</td>\n",
       "    </tr>\n",
       "    <tr>\n",
       "      <td>98</td>\n",
       "      <td>M6C</td>\n",
       "      <td>York</td>\n",
       "      <td>[Humewood-Cedarvale]</td>\n",
       "    </tr>\n",
       "    <tr>\n",
       "      <td>99</td>\n",
       "      <td>M6E</td>\n",
       "      <td>York</td>\n",
       "      <td>[Caledonia-Fairbanks]</td>\n",
       "    </tr>\n",
       "    <tr>\n",
       "      <td>100</td>\n",
       "      <td>M6M</td>\n",
       "      <td>York</td>\n",
       "      <td>[Del Ray, Keelesdale, Mount Dennis, Silverthorn]</td>\n",
       "    </tr>\n",
       "    <tr>\n",
       "      <td>101</td>\n",
       "      <td>M6N</td>\n",
       "      <td>York</td>\n",
       "      <td>[The Junction North, Runnymede]</td>\n",
       "    </tr>\n",
       "    <tr>\n",
       "      <td>102</td>\n",
       "      <td>M9N</td>\n",
       "      <td>York</td>\n",
       "      <td>[Weston]</td>\n",
       "    </tr>\n",
       "  </tbody>\n",
       "</table>\n",
       "<p>103 rows × 3 columns</p>\n",
       "</div>"
      ],
      "text/plain": [
       "    Postcode          Borough  \\\n",
       "0        M4N  Central Toronto   \n",
       "1        M4P  Central Toronto   \n",
       "2        M4R  Central Toronto   \n",
       "3        M4S  Central Toronto   \n",
       "4        M4T  Central Toronto   \n",
       "..       ...              ...   \n",
       "98       M6C             York   \n",
       "99       M6E             York   \n",
       "100      M6M             York   \n",
       "101      M6N             York   \n",
       "102      M9N             York   \n",
       "\n",
       "                                        Neighbourhood  \n",
       "0                                     [Lawrence Park]  \n",
       "1                                  [Davisville North]  \n",
       "2                                [North Toronto West]  \n",
       "3                                        [Davisville]  \n",
       "4                       [Moore Park, Summerhill East]  \n",
       "..                                                ...  \n",
       "98                               [Humewood-Cedarvale]  \n",
       "99                              [Caledonia-Fairbanks]  \n",
       "100  [Del Ray, Keelesdale, Mount Dennis, Silverthorn]  \n",
       "101                   [The Junction North, Runnymede]  \n",
       "102                                          [Weston]  \n",
       "\n",
       "[103 rows x 3 columns]"
      ]
     },
     "execution_count": 5,
     "metadata": {},
     "output_type": "execute_result"
    }
   ],
   "source": [
    "# groupby Boroughs keeping the Neighbourhood as lists\n",
    "#dfToronto = dfToronto.groupby(['Borough']).agg({'Postcode': list, 'Neighbourhood': list}).reset_index()\n",
    "dfToronto = dfToronto.groupby(['Borough', 'Postcode']).agg({'Neighbourhood': list}).reset_index()\n",
    "\n",
    "print(dfToronto.columns.values)\n",
    "dfToronto = dfToronto[['Postcode', 'Borough', 'Neighbourhood']]\n",
    "print(dfToronto.shape)\n",
    "dfToronto"
   ]
  },
  {
   "cell_type": "markdown",
   "metadata": {},
   "source": [
    "Toronto seems to have 11 Boroughs after grouping them. There are 103 Neighbourhoods."
   ]
  },
  {
   "cell_type": "markdown",
   "metadata": {},
   "source": [
    "## Add geo data to the dataframe by using the .csv file."
   ]
  },
  {
   "cell_type": "code",
   "execution_count": 7,
   "metadata": {},
   "outputs": [
    {
     "name": "stdout",
     "output_type": "stream",
     "text": [
      "  Postal Code   Latitude  Longitude\n",
      "0         M1B  43.806686 -79.194353\n",
      "1         M1C  43.784535 -79.160497\n",
      "2         M1E  43.763573 -79.188711\n",
      "3         M1G  43.770992 -79.216917\n",
      "4         M1H  43.773136 -79.239476\n",
      "['Postcode' 'Borough' 'Neighbourhood' 'Latitude' 'Longitude']\n",
      "(103, 5)\n"
     ]
    },
    {
     "data": {
      "text/html": [
       "<div>\n",
       "<style scoped>\n",
       "    .dataframe tbody tr th:only-of-type {\n",
       "        vertical-align: middle;\n",
       "    }\n",
       "\n",
       "    .dataframe tbody tr th {\n",
       "        vertical-align: top;\n",
       "    }\n",
       "\n",
       "    .dataframe thead th {\n",
       "        text-align: right;\n",
       "    }\n",
       "</style>\n",
       "<table border=\"1\" class=\"dataframe\">\n",
       "  <thead>\n",
       "    <tr style=\"text-align: right;\">\n",
       "      <th></th>\n",
       "      <th>Postcode</th>\n",
       "      <th>Borough</th>\n",
       "      <th>Neighbourhood</th>\n",
       "      <th>Latitude</th>\n",
       "      <th>Longitude</th>\n",
       "    </tr>\n",
       "  </thead>\n",
       "  <tbody>\n",
       "    <tr>\n",
       "      <td>0</td>\n",
       "      <td>M4N</td>\n",
       "      <td>Central Toronto</td>\n",
       "      <td>[Lawrence Park]</td>\n",
       "      <td>43.728020</td>\n",
       "      <td>-79.388790</td>\n",
       "    </tr>\n",
       "    <tr>\n",
       "      <td>1</td>\n",
       "      <td>M4P</td>\n",
       "      <td>Central Toronto</td>\n",
       "      <td>[Davisville North]</td>\n",
       "      <td>43.712751</td>\n",
       "      <td>-79.390197</td>\n",
       "    </tr>\n",
       "    <tr>\n",
       "      <td>2</td>\n",
       "      <td>M4R</td>\n",
       "      <td>Central Toronto</td>\n",
       "      <td>[North Toronto West]</td>\n",
       "      <td>43.715383</td>\n",
       "      <td>-79.405678</td>\n",
       "    </tr>\n",
       "    <tr>\n",
       "      <td>3</td>\n",
       "      <td>M4S</td>\n",
       "      <td>Central Toronto</td>\n",
       "      <td>[Davisville]</td>\n",
       "      <td>43.704324</td>\n",
       "      <td>-79.388790</td>\n",
       "    </tr>\n",
       "    <tr>\n",
       "      <td>4</td>\n",
       "      <td>M4T</td>\n",
       "      <td>Central Toronto</td>\n",
       "      <td>[Moore Park, Summerhill East]</td>\n",
       "      <td>43.689574</td>\n",
       "      <td>-79.383160</td>\n",
       "    </tr>\n",
       "  </tbody>\n",
       "</table>\n",
       "</div>"
      ],
      "text/plain": [
       "  Postcode          Borough                  Neighbourhood   Latitude  \\\n",
       "0      M4N  Central Toronto                [Lawrence Park]  43.728020   \n",
       "1      M4P  Central Toronto             [Davisville North]  43.712751   \n",
       "2      M4R  Central Toronto           [North Toronto West]  43.715383   \n",
       "3      M4S  Central Toronto                   [Davisville]  43.704324   \n",
       "4      M4T  Central Toronto  [Moore Park, Summerhill East]  43.689574   \n",
       "\n",
       "   Longitude  \n",
       "0 -79.388790  \n",
       "1 -79.390197  \n",
       "2 -79.405678  \n",
       "3 -79.388790  \n",
       "4 -79.383160  "
      ]
     },
     "execution_count": 7,
     "metadata": {},
     "output_type": "execute_result"
    }
   ],
   "source": [
    "c=pd.read_csv(\"Geospatial_Coordinates.csv\")\n",
    "\n",
    "print(c.head())\n",
    "\n",
    "dfToronto['Latitude'] = 0.0\n",
    "dfToronto['Longitude'] = 0.0\n",
    "\n",
    "for index, row in dfToronto.iterrows():\n",
    "    dfToronto.at[index, 'Latitude'] = c.loc[c['Postal Code'] == row['Postcode'], 'Latitude']\n",
    "    dfToronto.at[index, 'Longitude'] = c.loc[c['Postal Code'] == row['Postcode'], 'Longitude']\n",
    "\n",
    "\n",
    "print(dfToronto.columns.values)\n",
    "print(dfToronto.shape)\n",
    "dfToronto.head()\n"
   ]
  },
  {
   "cell_type": "code",
   "execution_count": null,
   "metadata": {},
   "outputs": [],
   "source": []
  }
 ],
 "metadata": {
  "kernelspec": {
   "display_name": "Python",
   "language": "python",
   "name": "conda-env-python-py"
  },
  "language_info": {
   "codemirror_mode": {
    "name": "ipython",
    "version": 3
   },
   "file_extension": ".py",
   "mimetype": "text/x-python",
   "name": "python",
   "nbconvert_exporter": "python",
   "pygments_lexer": "ipython3",
   "version": "3.6.7"
  }
 },
 "nbformat": 4,
 "nbformat_minor": 4
}
